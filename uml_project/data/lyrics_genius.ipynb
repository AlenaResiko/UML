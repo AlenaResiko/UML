{
 "cells": [
  {
   "cell_type": "markdown",
   "metadata": {},
   "source": [
    "NOTE\n",
    "Make use of the lyricsgenius package to download lyrics from the Genius API.\n",
    "\n",
    "TODO YOUR_API_KEY should be stored in a .env file in the root directory.\n",
    "\n",
    "Create api https://genius.com/api-clients\n",
    "\n",
    "pip install lyricsgenius https://pypi.org/project/lyricsgenius/"
   ]
  },
  {
   "cell_type": "code",
   "execution_count": 22,
   "metadata": {},
   "outputs": [],
   "source": [
    "%reload_ext autoreload\n",
    "%autoreload 2"
   ]
  },
  {
   "cell_type": "code",
   "execution_count": 23,
   "metadata": {},
   "outputs": [
    {
     "name": "stdout",
     "output_type": "stream",
     "text": [
      "/Users/Akseldkw/coding/kretsinger/data/nb_log.log\n"
     ]
    }
   ],
   "source": [
    "from kret_studies import *\n",
    "from kret_studies.notebook import *\n",
    "from kret_studies.complex import *\n",
    "\n",
    "logger = get_notebook_logger()"
   ]
  },
  {
   "cell_type": "code",
   "execution_count": 24,
   "metadata": {},
   "outputs": [],
   "source": [
    "import uml_project\n",
    "import lyricsgenius\n",
    "from lyricsgenius import Genius\n",
    "from lyricsgenius.types import Artist, Song, Album"
   ]
  },
  {
   "cell_type": "code",
   "execution_count": null,
   "metadata": {},
   "outputs": [
    {
     "data": {
      "text/plain": [
       "'/Users/Akseldkw/coding/Columbia/UML-Project/data/music'"
      ]
     },
     "execution_count": 25,
     "metadata": {},
     "output_type": "execute_result"
    }
   ],
   "source": [
    "from uml_project.data.music import *\n",
    "\n",
    "MUSIC_DIR"
   ]
  },
  {
   "cell_type": "code",
   "execution_count": 26,
   "metadata": {},
   "outputs": [],
   "source": [
    "genius = Genius()"
   ]
  },
  {
   "cell_type": "code",
   "execution_count": 27,
   "metadata": {},
   "outputs": [],
   "source": [
    "## VARS\n",
    "artist_name = \"Taylor Swift\"\n",
    "artist_name_file = artist_name.lower().replace(\" \", \"_\")"
   ]
  },
  {
   "cell_type": "code",
   "execution_count": 28,
   "metadata": {},
   "outputs": [
    {
     "name": "stdout",
     "output_type": "stream",
     "text": [
      "Searching for songs by Taylor Swift...\n",
      "\n",
      "Song 1: \"All Too Well (10 Minute Version) (Taylor’s Version) [From The Vault]\"\n",
      "Song 2: \"All Too Well (10 Minute Version) (Taylor’s Version) [Live Acoustic]\"\n",
      "Song 3: \"Fortnight\"\n",
      "Song 4: \"Wood\"\n",
      "Song 5: \"cardigan\"\n",
      "Song 6: \"So Long, London\"\n",
      "Song 7: \"The Tortured Poets Department\"\n",
      "Song 8: \"loml\"\n",
      "\n",
      "Reached user-specified song limit (8).\n",
      "Done. Found 8 songs.\n"
     ]
    }
   ],
   "source": [
    "artist = t.cast(Artist, genius.search_artist(artist_name, max_songs=8, include_features=False))"
   ]
  },
  {
   "cell_type": "code",
   "execution_count": 29,
   "metadata": {},
   "outputs": [
    {
     "name": "stdout",
     "output_type": "stream",
     "text": [
      "Wrote /Users/Akseldkw/coding/Columbia/UML-Project/data/musictaylor_swift.json.\n"
     ]
    }
   ],
   "source": [
    "artist.save_lyrics(MUSIC_DIR + f\"{artist_name_file}.json\")"
   ]
  },
  {
   "cell_type": "code",
   "execution_count": 30,
   "metadata": {},
   "outputs": [],
   "source": [
    "import json\n",
    "\n",
    "\n",
    "taylor_json = json.load(open(MUSIC_DIR + f\"{artist_name_file}.json\"))"
   ]
  },
  {
   "cell_type": "code",
   "execution_count": 32,
   "metadata": {},
   "outputs": [
    {
     "data": {
      "text/plain": [
       "dict_keys(['alternate_names', 'api_path', 'description', 'facebook_name', 'header_image_url', 'id', 'image_url', 'instagram_name', 'is_meme_verified', 'is_verified', 'name', 'translation_artist', 'twitter_name', 'url', 'current_user_metadata', 'followers_count', 'iq', 'description_annotation', 'user', 'songs'])"
      ]
     },
     "execution_count": 32,
     "metadata": {},
     "output_type": "execute_result"
    }
   ],
   "source": [
    "taylor_json.keys()"
   ]
  },
  {
   "cell_type": "code",
   "execution_count": null,
   "metadata": {},
   "outputs": [
    {
     "data": {
      "text/plain": [
       "(list, dict)"
      ]
     },
     "execution_count": 37,
     "metadata": {},
     "output_type": "execute_result"
    }
   ],
   "source": [
    "type(taylor_json[\"songs\"]), type(taylor_json[\"songs\"][0])"
   ]
  },
  {
   "cell_type": "code",
   "execution_count": null,
   "metadata": {},
   "outputs": [
    {
     "data": {
      "text/plain": [
       "dict_keys(['annotation_count', 'api_path', 'artist_names', 'full_title', 'header_image_thumbnail_url', 'header_image_url', 'id', 'lyrics_owner_id', 'lyrics_state', 'path', 'primary_artist_names', 'pyongs_count', 'relationships_index_url', 'release_date_components', 'release_date_for_display', 'release_date_with_abbreviated_month_for_display', 'song_art_image_thumbnail_url', 'song_art_image_url', 'stats', 'title', 'title_with_featured', 'url', 'featured_artists', 'primary_artist', 'primary_artists', 'apple_music_id', 'apple_music_player_url', 'description', 'embed_content', 'language', 'recording_location', 'release_date', 'current_user_metadata', 'song_art_primary_color', 'song_art_secondary_color', 'song_art_text_color', 'album', 'custom_performances', 'description_annotation', 'lyrics_marked_complete_by', 'lyrics_marked_staff_approved_by', 'media', 'producer_artists', 'song_relationships', 'translation_songs', 'verified_annotations_by', 'verified_contributors', 'verified_lyrics_by', 'writer_artists', 'artist', 'lyrics'])"
      ]
     },
     "execution_count": 38,
     "metadata": {},
     "output_type": "execute_result"
    }
   ],
   "source": [
    "taylor_json[\"songs\"][0].keys()"
   ]
  },
  {
   "cell_type": "code",
   "execution_count": null,
   "metadata": {},
   "outputs": [
    {
     "data": {
      "text/plain": [
       "'[Verse 1]\\nI walked through the door with you, the air was cold\\nBut somethin\\' \\'bout it felt like home somehow\\nAnd I left my scarf there at your sister\\'s house\\nAnd you\\'ve still got it in your drawer, even now\\n\\n[Verse 2]\\nOh, your sweet disposition and my wide-eyed gaze\\nWe\\'re singin\\' in the car, getting lost upstate\\nAutumn leaves fallin\\' down like pieces into place\\nAnd I can picture it after all these days\\n\\n[Pre-Chorus]\\nAnd I know it\\'s long gone and\\nThat magic\\'s not here no more\\nAnd I might be okay, but I\\'m not fine at all\\nOh, oh, oh\\n\\n[Chorus]\\n\\'Causе there we arе again on that little town street\\nYou almost ran the red \\'cause you were lookin\\' over at me\\nWind in my hair, I was there\\nI remember it all too well\\n\\n[Verse 3]\\nPhoto album on the counter, your cheeks were turnin\\' red\\nYou used to be a little kid with glasses in a twin-sized bed\\nAnd your mother\\'s tellin\\' stories \\'bout you on the tee-ball team\\nYou taught me \\'bout your past, thinkin\\' your future was me\\nAnd you were tossing me the car keys, \"Fuck the patriarchy\"\\nKeychain on the ground, we were always skippin\\' town\\nAnd I was thinkin\\' on the drive down, \"Any time now\\nHe\\'s gonna say it\\'s love,\" you never called it what it was\\n\\'Til we were dead and gone and buried\\nCheck the pulse and come back swearin\\' it\\'s the same\\nAfter three months in the grave\\nAnd then you wondered where it went to as I reached for you\\nBut all I felt was shame and you held my lifeless frame\\n\\n[Pre-Chorus]\\nAnd I know it\\'s long gone and\\nThere was nothing else I could do\\nAnd I forget about you long enough\\nTo forget why I needed to\\n\\n[Chorus]\\n\\'Cause there we are again in the middle of the night\\nWe\\'re dancin\\' \\'round the kitchen in the refrigerator light\\nDown the stairs, I was there\\nI remember it all too well\\nAnd there we are again when nobody had to know\\nYou kept me like a secret, but I kept you like an oath\\nSacred prayer and we\\'d swear\\nTo remember it all too well, yeah\\n\\n[Bridge]\\nWell, maybe we got lost in translation, maybe I asked for too much\\nBut maybe this thing was a masterpiece \\'til you tore it all up\\nRunnin\\' scared, I was there\\nI remember it all too well\\nAnd you call me up again just to break me like a promise\\nSo casually cruel in the name of bein\\' honest\\nI\\'m a crumpled-up piece of paper lyin\\' here\\n\\'Cause I remember it all, all, all\\n\\n[Verse 4]\\nThey say all\\'s well that ends well, but I\\'m in a new hell\\nEvery time you double-cross my mind\\nYou said if we had been closer in age, maybe it would\\'ve been fine\\nAnd that made me want to die\\nThe idea you had of me, who was she?\\nA never-needy, ever-lovely jewel whose shine reflects on you\\nNot weepin\\' in a party bathroom\\nSome actress askin\\' me what happened, you\\nThat\\'s what happened, you\\nYou who charmed my dad with self-effacing jokes\\nSippin\\' coffee like you\\'re on a late-night show\\nBut then he watched me watch the front door all night, willin\\' you to come\\nAnd he said, \"It\\'s supposed to be fun turning twenty-one\"\\n\\n[Verse 5]\\nTime won\\'t fly, it\\'s like I\\'m paralyzed by it\\nI\\'d like to be my old self again, but I\\'m still tryin\\' to find it\\nAfter plaid shirt days and nights when you made me your own\\nNow you mail back my things and I walk home alone\\nBut you keep my old scarf from that very first week\\n\\'Cause it reminds you of innocence and it smells like me\\nYou can\\'t get rid of it\\n\\'Cause you remember it all too well, yeah\\n\\n[Chorus]\\n\\'Cause there we are again when I loved you so\\nBack before you lost the one real thing you\\'ve ever known\\nIt was rare, I was there\\nI remember it all too well\\nWind in my hair, you were there\\nYou remember it all\\nDown the stairs, you were there\\nYou remember it all\\nIt was rare, I was there\\nI remember it all too well\\n\\n[Verse 6]\\nAnd I was never good at tellin\\' jokes, but the punch line goes\\n\"I\\'ll get older, but your lovers stay my age\"\\nFrom when your Brooklyn broke my skin and bones\\nI\\'m a soldier who\\'s returning half her weight\\nAnd did the twin flame bruise paint you blue?\\nJust between us, did the love affair maim you too?\\n\\'Cause in this city\\'s barren cold\\nI still remember the first fall of snow\\nAnd how it glistened as it fell\\nI remember it all too well\\n\\n[Outro]\\nJust between us, did the love affair maim you all too well?\\nJust between us, do you remember it all too well?\\nJust between us, I remember it (Just between us) all too well\\nWind in my hair, I was there, I was there (I was there)\\nDown the stairs, I was there, I was there\\nSacred prayer, I was there, I was there\\nIt was rare, you remember it all too well\\nWind in my hair, I was there, I was there (Oh)\\nDown the stairs, I was there, I was there (I was there)\\nSacred prayer, I was there, I was there\\nIt was rare, you remember it (All too well)\\nWind in my hair, I was there, I was there\\nDown the stairs, I was there, I was there\\nSacred prayer, I was there, I was there\\nIt was rare, you remember it\\nWind in my hair, I was there, I was there\\nDown the stairs, I was there, I was there\\nSacred prayer, I was there, I was there\\nIt was rare, you remember it'"
      ]
     },
     "execution_count": 39,
     "metadata": {},
     "output_type": "execute_result"
    }
   ],
   "source": [
    "taylor_json[\"songs\"][0][\"lyrics\"]"
   ]
  },
  {
   "cell_type": "code",
   "execution_count": null,
   "metadata": {},
   "outputs": [],
   "source": [
    "import kagglehub\n",
    "\n",
    "# Download latest version\n",
    "path = kagglehub.dataset_download(\"ishikajohari/taylor-swift-all-lyrics-30-albums\")"
   ]
  }
 ],
 "metadata": {
  "kernelspec": {
   "display_name": "kret_312",
   "language": "python",
   "name": "python3"
  },
  "language_info": {
   "codemirror_mode": {
    "name": "ipython",
    "version": 3
   },
   "file_extension": ".py",
   "mimetype": "text/x-python",
   "name": "python",
   "nbconvert_exporter": "python",
   "pygments_lexer": "ipython3",
   "version": "3.12.11"
  }
 },
 "nbformat": 4,
 "nbformat_minor": 2
}
